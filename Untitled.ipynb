{
 "cells": [
  {
   "cell_type": "code",
   "execution_count": 5,
   "id": "9c6e19e9",
   "metadata": {},
   "outputs": [
    {
     "name": "stdout",
     "output_type": "stream",
     "text": [
      "[[ 0.  0.  1.  1.]\n",
      " [-1.  0.  0.  1.]\n",
      " [ 0. -1.  0.  0.]\n",
      " [ 0.  0.  0.  1.]]\n"
     ]
    }
   ],
   "source": [
    "import numpy as np\n",
    "t_r = np.array([[1, 0, 0, 0],\n",
    "                [0, 1, 0, 0],\n",
    "                [0, 0, 1, 1],\n",
    "                [0, 0, 0, 1]\n",
    "               ])\n",
    "\n",
    "t_w = np.array([[0, 0, 1, 2],\n",
    "                [-1, 0, 0, 1],\n",
    "                [0, -1, 0, 0],\n",
    "                [0, 0, 0, 1]\n",
    "               ])\n",
    "\n",
    "r_w = t_w.dot(np.linalg.inv(t_r))\n",
    "print(r_w)"
   ]
  },
  {
   "cell_type": "code",
   "execution_count": 2,
   "id": "9774d9de",
   "metadata": {},
   "outputs": [],
   "source": [
    "import numpy as np\n",
    " \n",
    "def quaternion_rotation_matrix(Q):\n",
    "    \"\"\"\n",
    "    Covert a quaternion into a full three-dimensional rotation matrix.\n",
    " \n",
    "    Input\n",
    "    :param Q: A 4 element array representing the quaternion (q0,q1,q2,q3) \n",
    " \n",
    "    Output\n",
    "    :return: A 3x3 element matrix representing the full 3D rotation matrix. \n",
    "             This rotation matrix converts a point in the local reference \n",
    "             frame to a point in the global reference frame.\n",
    "    \"\"\"\n",
    "    # Extract the values from Q\n",
    "    q0 = Q[0]\n",
    "    q1 = Q[1]\n",
    "    q2 = Q[2]\n",
    "    q3 = Q[3]\n",
    "     \n",
    "    # First row of the rotation matrix\n",
    "    r00 = 2 * (q0 * q0 + q1 * q1) - 1\n",
    "    r01 = 2 * (q1 * q2 - q0 * q3)\n",
    "    r02 = 2 * (q1 * q3 + q0 * q2)\n",
    "     \n",
    "    # Second row of the rotation matrix\n",
    "    r10 = 2 * (q1 * q2 + q0 * q3)\n",
    "    r11 = 2 * (q0 * q0 + q2 * q2) - 1\n",
    "    r12 = 2 * (q2 * q3 - q0 * q1)\n",
    "     \n",
    "    # Third row of the rotation matrix\n",
    "    r20 = 2 * (q1 * q3 - q0 * q2)\n",
    "    r21 = 2 * (q2 * q3 + q0 * q1)\n",
    "    r22 = 2 * (q0 * q0 + q3 * q3) - 1\n",
    "     \n",
    "    # 3x3 rotation matrix\n",
    "    rot_matrix = np.array([[r00, r01, r02],\n",
    "                           [r10, r11, r12],\n",
    "                           [r20, r21, r22]])\n",
    "                            \n",
    "    return rot_matrix"
   ]
  },
  {
   "cell_type": "code",
   "execution_count": 3,
   "id": "1e421ee1",
   "metadata": {},
   "outputs": [
    {
     "name": "stdout",
     "output_type": "stream",
     "text": [
      "[[ 0.99725781  0.06087772 -0.04201485]\n",
      " [-0.07367208  0.86827803 -0.49057164]\n",
      " [ 0.00661575  0.49232308  0.87038443]]\n"
     ]
    }
   ],
   "source": [
    "print(quaternion_rotation_matrix([0.9664268, 0.25426, -0.01258, -0.034806]))"
   ]
  },
  {
   "cell_type": "code",
   "execution_count": 11,
   "id": "958ce0a1",
   "metadata": {},
   "outputs": [
    {
     "name": "stdout",
     "output_type": "stream",
     "text": [
      "[[ 0.99725781  0.06087772 -0.04201485]\n",
      " [-0.07367208  0.86827803 -0.49057164]\n",
      " [ 0.00661575  0.49232308  0.87038443]]\n",
      "[[1]\n",
      " [2]\n",
      " [3]]\n",
      "[[ 0.99725781  0.06087772 -0.04201485  1.        ]\n",
      " [-0.07367208  0.86827803 -0.49057164  2.        ]\n",
      " [ 0.00661575  0.49232308  0.87038443  3.        ]]\n",
      "[[ 0.99725781  0.06087772 -0.04201485  1.        ]\n",
      " [-0.07367208  0.86827803 -0.49057164  2.        ]\n",
      " [ 0.00661575  0.49232308  0.87038443  3.        ]\n",
      " [ 0.          0.          0.          1.        ]]\n"
     ]
    }
   ],
   "source": [
    "rotation = quaternion_rotation_matrix([0.9664268, 0.25426, -0.01258, -0.034806])\n",
    "print(rotation)\n",
    "\n",
    "t = np.array([1,2,3]).reshape(3,1)\n",
    "padding = np.array([[0,0,0,1]])\n",
    "print(t)\n",
    "\n",
    "\n",
    "trans = np.concatenate((rotation,t), axis=1)\n",
    "print(trans)\n",
    "\n",
    "trans = np.concatenate((trans,padding), axis=0)\n",
    "print(trans)\n",
    "\n"
   ]
  },
  {
   "cell_type": "code",
   "execution_count": 10,
   "id": "9e0cbc33",
   "metadata": {},
   "outputs": [],
   "source": [
    "def to_4dmatrix(quaternion, trans):\n",
    "    rotation = quaternion_rotation_matrix(quaternion)\n",
    "    t = np.array([trans[0], trans[1], trans[2]]).reshape(3,1)\n",
    "    padding = np.array([[0,0,0,1]])\n",
    "    \n",
    "    matrix = np.concatenate((rotation, t), axis=1)\n",
    "    matrix = np.concatenate((matrix, padding), axis=0)\n",
    "    \n",
    "    return matrix"
   ]
  },
  {
   "cell_type": "code",
   "execution_count": 28,
   "id": "08aa69cf",
   "metadata": {},
   "outputs": [
    {
     "name": "stdout",
     "output_type": "stream",
     "text": [
      "[[1 0 0 0]\n",
      " [0 1 0 0]\n",
      " [0 0 1 1]\n",
      " [0 0 0 1]]\n",
      "[[ 0.  0.  1.  1.]\n",
      " [-1.  0.  0.  1.]\n",
      " [ 0. -1.  0.  0.]\n",
      " [ 0.  0.  0.  1.]]\n"
     ]
    }
   ],
   "source": [
    "tran = [0, 0, 1]\n",
    "q = [1, 0, 0, 0]\n",
    "t_r = to_4dmatrix(q, tran)\n",
    "print(t_r)\n",
    "\n",
    "t_w = np.array([[0, 0, 1, 2],\n",
    "                [-1, 0, 0, 1],\n",
    "                [0, -1, 0, 0],\n",
    "                [0, 0, 0, 1]\n",
    "               ])\n",
    "\n",
    "r_w = t_w.dot(np.linalg.inv(t_r))\n",
    "print(r_w)"
   ]
  },
  {
   "cell_type": "code",
   "execution_count": 32,
   "id": "42de093b",
   "metadata": {},
   "outputs": [
    {
     "name": "stdout",
     "output_type": "stream",
     "text": [
      "[1. 1. 0.]\n",
      "[2. 1. 0.]\n",
      "[1. 0.]\n"
     ]
    }
   ],
   "source": [
    "robot_loc = r_w[:3, 3].reshape(3,)\n",
    "print(robot_loc)\n",
    "\n",
    "\n",
    "r_v = np.array([0,0,1,1]).reshape(4,1)\n",
    "w_v = (r_w.dot(r_v))[:3,:].reshape(3,)\n",
    "\n",
    "direction = (w_v - robot_loc)[:2]\n",
    "\n",
    "print(w_v)\n",
    "print(direction)\n",
    "\n"
   ]
  },
  {
   "cell_type": "code",
   "execution_count": 31,
   "id": "e37de4c4",
   "metadata": {},
   "outputs": [
    {
     "name": "stdout",
     "output_type": "stream",
     "text": [
      "0.0\n"
     ]
    }
   ],
   "source": [
    "d = np.arctan2(0, 1) \n",
    "print(d)"
   ]
  },
  {
   "cell_type": "code",
   "execution_count": null,
   "id": "943ae0c6",
   "metadata": {},
   "outputs": [],
   "source": [
    "def modify(distance, alpha, beta):\n",
    "    kp = 1\n",
    "    ka = 1\n",
    "    kb = 1\n",
    "    \n",
    "    v = kp*distance\n",
    "    w = ka*alpha + kb*beta\n",
    "    \n",
    "    return v, w\n",
    "    \n",
    "def to_target(loc, angle, target):\n",
    "    dx = target[0] - loc[0]\n",
    "    dy = target[1] - loc[1]\n",
    "    \n",
    "    distance = math.sqrt(dx*dx + dy*dy)\n",
    "    \n",
    "    alpha = np.arctan2(dy, dx) - angle\n",
    "    \n",
    "    beta = -1 * angle - alpha - target[2]\n",
    "    \n",
    "    v, w = modify(distance, alpha, beta)\n",
    "    \n",
    "    return v, w\n",
    "    \n",
    "    \n",
    "    "
   ]
  }
 ],
 "metadata": {
  "kernelspec": {
   "display_name": "Python 3 (ipykernel)",
   "language": "python",
   "name": "python3"
  },
  "language_info": {
   "codemirror_mode": {
    "name": "ipython",
    "version": 3
   },
   "file_extension": ".py",
   "mimetype": "text/x-python",
   "name": "python",
   "nbconvert_exporter": "python",
   "pygments_lexer": "ipython3",
   "version": "3.10.7"
  }
 },
 "nbformat": 4,
 "nbformat_minor": 5
}
